{
 "cells": [
  {
   "cell_type": "markdown",
   "metadata": {
    "papermill": {
     "duration": 0.035282,
     "end_time": "2022-01-19T05:43:01.444332",
     "exception": false,
     "start_time": "2022-01-19T05:43:01.409050",
     "status": "completed"
    },
    "tags": []
   },
   "source": [
    "# CROP RECOMMENDATION SYSTEM "
   ]
  },
  {
   "cell_type": "code",
   "execution_count": 1,
   "metadata": {
    "execution": {
     "iopub.execute_input": "2022-01-19T05:43:01.988303Z",
     "iopub.status.busy": "2022-01-19T05:43:01.987258Z",
     "iopub.status.idle": "2022-01-19T05:43:03.198329Z",
     "shell.execute_reply": "2022-01-19T05:43:03.197591Z"
    },
    "papermill": {
     "duration": 1.249177,
     "end_time": "2022-01-19T05:43:03.198482",
     "exception": false,
     "start_time": "2022-01-19T05:43:01.949305",
     "status": "completed"
    },
    "tags": []
   },
   "outputs": [],
   "source": [
    "import pandas as pd\n",
    "import numpy as np\n",
    "import matplotlib.pyplot as plt\n",
    "import seaborn as sns\n",
    "from sklearn.metrics import classification_report\n",
    "from sklearn import metrics\n",
    "from sklearn import tree\n",
    "import warnings\n",
    "warnings.filterwarnings('ignore')"
   ]
  },
  {
   "cell_type": "code",
   "execution_count": 2,
   "metadata": {
    "execution": {
     "iopub.execute_input": "2022-01-19T05:43:03.277905Z",
     "iopub.status.busy": "2022-01-19T05:43:03.277230Z",
     "iopub.status.idle": "2022-01-19T05:43:03.295749Z",
     "shell.execute_reply": "2022-01-19T05:43:03.296326Z"
    },
    "papermill": {
     "duration": 0.064077,
     "end_time": "2022-01-19T05:43:03.296513",
     "exception": false,
     "start_time": "2022-01-19T05:43:03.232436",
     "status": "completed"
    },
    "tags": []
   },
   "outputs": [
    {
     "data": {
      "text/html": [
       "<div>\n",
       "<style scoped>\n",
       "    .dataframe tbody tr th:only-of-type {\n",
       "        vertical-align: middle;\n",
       "    }\n",
       "\n",
       "    .dataframe tbody tr th {\n",
       "        vertical-align: top;\n",
       "    }\n",
       "\n",
       "    .dataframe thead th {\n",
       "        text-align: right;\n",
       "    }\n",
       "</style>\n",
       "<table border=\"1\" class=\"dataframe\">\n",
       "  <thead>\n",
       "    <tr style=\"text-align: right;\">\n",
       "      <th></th>\n",
       "      <th>N</th>\n",
       "      <th>P</th>\n",
       "      <th>K</th>\n",
       "      <th>temperature</th>\n",
       "      <th>humidity</th>\n",
       "      <th>ph</th>\n",
       "      <th>rainfall</th>\n",
       "      <th>label</th>\n",
       "    </tr>\n",
       "  </thead>\n",
       "  <tbody>\n",
       "    <tr>\n",
       "      <th>0</th>\n",
       "      <td>90</td>\n",
       "      <td>42</td>\n",
       "      <td>43</td>\n",
       "      <td>20.879744</td>\n",
       "      <td>82.002744</td>\n",
       "      <td>6.502985</td>\n",
       "      <td>202.935536</td>\n",
       "      <td>rice</td>\n",
       "    </tr>\n",
       "    <tr>\n",
       "      <th>1</th>\n",
       "      <td>85</td>\n",
       "      <td>58</td>\n",
       "      <td>41</td>\n",
       "      <td>21.770462</td>\n",
       "      <td>80.319644</td>\n",
       "      <td>7.038096</td>\n",
       "      <td>226.655537</td>\n",
       "      <td>rice</td>\n",
       "    </tr>\n",
       "    <tr>\n",
       "      <th>2</th>\n",
       "      <td>60</td>\n",
       "      <td>55</td>\n",
       "      <td>44</td>\n",
       "      <td>23.004459</td>\n",
       "      <td>82.320763</td>\n",
       "      <td>7.840207</td>\n",
       "      <td>263.964248</td>\n",
       "      <td>rice</td>\n",
       "    </tr>\n",
       "    <tr>\n",
       "      <th>3</th>\n",
       "      <td>74</td>\n",
       "      <td>35</td>\n",
       "      <td>40</td>\n",
       "      <td>26.491096</td>\n",
       "      <td>80.158363</td>\n",
       "      <td>6.980401</td>\n",
       "      <td>242.864034</td>\n",
       "      <td>rice</td>\n",
       "    </tr>\n",
       "    <tr>\n",
       "      <th>4</th>\n",
       "      <td>78</td>\n",
       "      <td>42</td>\n",
       "      <td>42</td>\n",
       "      <td>20.130175</td>\n",
       "      <td>81.604873</td>\n",
       "      <td>7.628473</td>\n",
       "      <td>262.717340</td>\n",
       "      <td>rice</td>\n",
       "    </tr>\n",
       "  </tbody>\n",
       "</table>\n",
       "</div>"
      ],
      "text/plain": [
       "    N   P   K  temperature   humidity        ph    rainfall label\n",
       "0  90  42  43    20.879744  82.002744  6.502985  202.935536  rice\n",
       "1  85  58  41    21.770462  80.319644  7.038096  226.655537  rice\n",
       "2  60  55  44    23.004459  82.320763  7.840207  263.964248  rice\n",
       "3  74  35  40    26.491096  80.158363  6.980401  242.864034  rice\n",
       "4  78  42  42    20.130175  81.604873  7.628473  262.717340  rice"
      ]
     },
     "execution_count": 2,
     "metadata": {},
     "output_type": "execute_result"
    }
   ],
   "source": [
    "df = pd.read_csv('./Crop_recommendation.csv')\n",
    "df.head()"
   ]
  },
  {
   "cell_type": "code",
   "execution_count": 3,
   "metadata": {
    "execution": {
     "iopub.execute_input": "2022-01-19T05:43:03.462532Z",
     "iopub.status.busy": "2022-01-19T05:43:03.461867Z",
     "iopub.status.idle": "2022-01-19T05:43:03.473829Z",
     "shell.execute_reply": "2022-01-19T05:43:03.474455Z"
    },
    "papermill": {
     "duration": 0.049557,
     "end_time": "2022-01-19T05:43:03.474596",
     "exception": false,
     "start_time": "2022-01-19T05:43:03.425039",
     "status": "completed"
    },
    "tags": []
   },
   "outputs": [
    {
     "data": {
      "text/html": [
       "<div>\n",
       "<style scoped>\n",
       "    .dataframe tbody tr th:only-of-type {\n",
       "        vertical-align: middle;\n",
       "    }\n",
       "\n",
       "    .dataframe tbody tr th {\n",
       "        vertical-align: top;\n",
       "    }\n",
       "\n",
       "    .dataframe thead th {\n",
       "        text-align: right;\n",
       "    }\n",
       "</style>\n",
       "<table border=\"1\" class=\"dataframe\">\n",
       "  <thead>\n",
       "    <tr style=\"text-align: right;\">\n",
       "      <th></th>\n",
       "      <th>N</th>\n",
       "      <th>P</th>\n",
       "      <th>K</th>\n",
       "      <th>temperature</th>\n",
       "      <th>humidity</th>\n",
       "      <th>ph</th>\n",
       "      <th>rainfall</th>\n",
       "      <th>label</th>\n",
       "    </tr>\n",
       "  </thead>\n",
       "  <tbody>\n",
       "    <tr>\n",
       "      <th>2195</th>\n",
       "      <td>107</td>\n",
       "      <td>34</td>\n",
       "      <td>32</td>\n",
       "      <td>26.774637</td>\n",
       "      <td>66.413269</td>\n",
       "      <td>6.780064</td>\n",
       "      <td>177.774507</td>\n",
       "      <td>coffee</td>\n",
       "    </tr>\n",
       "    <tr>\n",
       "      <th>2196</th>\n",
       "      <td>99</td>\n",
       "      <td>15</td>\n",
       "      <td>27</td>\n",
       "      <td>27.417112</td>\n",
       "      <td>56.636362</td>\n",
       "      <td>6.086922</td>\n",
       "      <td>127.924610</td>\n",
       "      <td>coffee</td>\n",
       "    </tr>\n",
       "    <tr>\n",
       "      <th>2197</th>\n",
       "      <td>118</td>\n",
       "      <td>33</td>\n",
       "      <td>30</td>\n",
       "      <td>24.131797</td>\n",
       "      <td>67.225123</td>\n",
       "      <td>6.362608</td>\n",
       "      <td>173.322839</td>\n",
       "      <td>coffee</td>\n",
       "    </tr>\n",
       "    <tr>\n",
       "      <th>2198</th>\n",
       "      <td>117</td>\n",
       "      <td>32</td>\n",
       "      <td>34</td>\n",
       "      <td>26.272418</td>\n",
       "      <td>52.127394</td>\n",
       "      <td>6.758793</td>\n",
       "      <td>127.175293</td>\n",
       "      <td>coffee</td>\n",
       "    </tr>\n",
       "    <tr>\n",
       "      <th>2199</th>\n",
       "      <td>104</td>\n",
       "      <td>18</td>\n",
       "      <td>30</td>\n",
       "      <td>23.603016</td>\n",
       "      <td>60.396475</td>\n",
       "      <td>6.779833</td>\n",
       "      <td>140.937041</td>\n",
       "      <td>coffee</td>\n",
       "    </tr>\n",
       "  </tbody>\n",
       "</table>\n",
       "</div>"
      ],
      "text/plain": [
       "        N   P   K  temperature   humidity        ph    rainfall   label\n",
       "2195  107  34  32    26.774637  66.413269  6.780064  177.774507  coffee\n",
       "2196   99  15  27    27.417112  56.636362  6.086922  127.924610  coffee\n",
       "2197  118  33  30    24.131797  67.225123  6.362608  173.322839  coffee\n",
       "2198  117  32  34    26.272418  52.127394  6.758793  127.175293  coffee\n",
       "2199  104  18  30    23.603016  60.396475  6.779833  140.937041  coffee"
      ]
     },
     "execution_count": 3,
     "metadata": {},
     "output_type": "execute_result"
    }
   ],
   "source": [
    "df.tail()"
   ]
  },
  {
   "cell_type": "code",
   "execution_count": 4,
   "metadata": {
    "execution": {
     "iopub.execute_input": "2022-01-19T05:43:03.549223Z",
     "iopub.status.busy": "2022-01-19T05:43:03.548570Z",
     "iopub.status.idle": "2022-01-19T05:43:03.551254Z",
     "shell.execute_reply": "2022-01-19T05:43:03.551808Z"
    },
    "papermill": {
     "duration": 0.042772,
     "end_time": "2022-01-19T05:43:03.551959",
     "exception": false,
     "start_time": "2022-01-19T05:43:03.509187",
     "status": "completed"
    },
    "tags": []
   },
   "outputs": [
    {
     "data": {
      "text/plain": [
       "17600"
      ]
     },
     "execution_count": 4,
     "metadata": {},
     "output_type": "execute_result"
    }
   ],
   "source": [
    "df.size"
   ]
  },
  {
   "cell_type": "code",
   "execution_count": 5,
   "metadata": {
    "execution": {
     "iopub.execute_input": "2022-01-19T05:43:03.625424Z",
     "iopub.status.busy": "2022-01-19T05:43:03.624773Z",
     "iopub.status.idle": "2022-01-19T05:43:03.629241Z",
     "shell.execute_reply": "2022-01-19T05:43:03.629747Z"
    },
    "papermill": {
     "duration": 0.042647,
     "end_time": "2022-01-19T05:43:03.629889",
     "exception": false,
     "start_time": "2022-01-19T05:43:03.587242",
     "status": "completed"
    },
    "tags": []
   },
   "outputs": [
    {
     "data": {
      "text/plain": [
       "(2200, 8)"
      ]
     },
     "execution_count": 5,
     "metadata": {},
     "output_type": "execute_result"
    }
   ],
   "source": [
    "df.shape"
   ]
  },
  {
   "cell_type": "code",
   "execution_count": 6,
   "metadata": {
    "execution": {
     "iopub.execute_input": "2022-01-19T05:43:03.706951Z",
     "iopub.status.busy": "2022-01-19T05:43:03.706277Z",
     "iopub.status.idle": "2022-01-19T05:43:03.710946Z",
     "shell.execute_reply": "2022-01-19T05:43:03.711421Z"
    },
    "papermill": {
     "duration": 0.045695,
     "end_time": "2022-01-19T05:43:03.711566",
     "exception": false,
     "start_time": "2022-01-19T05:43:03.665871",
     "status": "completed"
    },
    "tags": []
   },
   "outputs": [
    {
     "data": {
      "text/plain": [
       "Index(['N', 'P', 'K', 'temperature', 'humidity', 'ph', 'rainfall', 'label'], dtype='object')"
      ]
     },
     "execution_count": 6,
     "metadata": {},
     "output_type": "execute_result"
    }
   ],
   "source": [
    "df.columns"
   ]
  },
  {
   "cell_type": "code",
   "execution_count": 7,
   "metadata": {},
   "outputs": [
    {
     "name": "stdout",
     "output_type": "stream",
     "text": [
      "<class 'pandas.core.frame.DataFrame'>\n",
      "RangeIndex: 2200 entries, 0 to 2199\n",
      "Data columns (total 8 columns):\n",
      " #   Column       Non-Null Count  Dtype  \n",
      "---  ------       --------------  -----  \n",
      " 0   N            2200 non-null   int64  \n",
      " 1   P            2200 non-null   int64  \n",
      " 2   K            2200 non-null   int64  \n",
      " 3   temperature  2200 non-null   float64\n",
      " 4   humidity     2200 non-null   float64\n",
      " 5   ph           2200 non-null   float64\n",
      " 6   rainfall     2200 non-null   float64\n",
      " 7   label        2200 non-null   object \n",
      "dtypes: float64(4), int64(3), object(1)\n",
      "memory usage: 137.6+ KB\n"
     ]
    }
   ],
   "source": [
    "df.info()"
   ]
  },
  {
   "cell_type": "code",
   "execution_count": 8,
   "metadata": {},
   "outputs": [
    {
     "data": {
      "text/html": [
       "<div>\n",
       "<style scoped>\n",
       "    .dataframe tbody tr th:only-of-type {\n",
       "        vertical-align: middle;\n",
       "    }\n",
       "\n",
       "    .dataframe tbody tr th {\n",
       "        vertical-align: top;\n",
       "    }\n",
       "\n",
       "    .dataframe thead th {\n",
       "        text-align: right;\n",
       "    }\n",
       "</style>\n",
       "<table border=\"1\" class=\"dataframe\">\n",
       "  <thead>\n",
       "    <tr style=\"text-align: right;\">\n",
       "      <th></th>\n",
       "      <th>N</th>\n",
       "      <th>P</th>\n",
       "      <th>K</th>\n",
       "      <th>temperature</th>\n",
       "      <th>humidity</th>\n",
       "      <th>ph</th>\n",
       "      <th>rainfall</th>\n",
       "    </tr>\n",
       "  </thead>\n",
       "  <tbody>\n",
       "    <tr>\n",
       "      <th>count</th>\n",
       "      <td>2200.000000</td>\n",
       "      <td>2200.000000</td>\n",
       "      <td>2200.000000</td>\n",
       "      <td>2200.000000</td>\n",
       "      <td>2200.000000</td>\n",
       "      <td>2200.000000</td>\n",
       "      <td>2200.000000</td>\n",
       "    </tr>\n",
       "    <tr>\n",
       "      <th>mean</th>\n",
       "      <td>50.551818</td>\n",
       "      <td>53.362727</td>\n",
       "      <td>48.149091</td>\n",
       "      <td>25.616244</td>\n",
       "      <td>71.481779</td>\n",
       "      <td>6.469480</td>\n",
       "      <td>103.463655</td>\n",
       "    </tr>\n",
       "    <tr>\n",
       "      <th>std</th>\n",
       "      <td>36.917334</td>\n",
       "      <td>32.985883</td>\n",
       "      <td>50.647931</td>\n",
       "      <td>5.063749</td>\n",
       "      <td>22.263812</td>\n",
       "      <td>0.773938</td>\n",
       "      <td>54.958389</td>\n",
       "    </tr>\n",
       "    <tr>\n",
       "      <th>min</th>\n",
       "      <td>0.000000</td>\n",
       "      <td>5.000000</td>\n",
       "      <td>5.000000</td>\n",
       "      <td>8.825675</td>\n",
       "      <td>14.258040</td>\n",
       "      <td>3.504752</td>\n",
       "      <td>20.211267</td>\n",
       "    </tr>\n",
       "    <tr>\n",
       "      <th>25%</th>\n",
       "      <td>21.000000</td>\n",
       "      <td>28.000000</td>\n",
       "      <td>20.000000</td>\n",
       "      <td>22.769375</td>\n",
       "      <td>60.261953</td>\n",
       "      <td>5.971693</td>\n",
       "      <td>64.551686</td>\n",
       "    </tr>\n",
       "    <tr>\n",
       "      <th>50%</th>\n",
       "      <td>37.000000</td>\n",
       "      <td>51.000000</td>\n",
       "      <td>32.000000</td>\n",
       "      <td>25.598693</td>\n",
       "      <td>80.473146</td>\n",
       "      <td>6.425045</td>\n",
       "      <td>94.867624</td>\n",
       "    </tr>\n",
       "    <tr>\n",
       "      <th>75%</th>\n",
       "      <td>84.250000</td>\n",
       "      <td>68.000000</td>\n",
       "      <td>49.000000</td>\n",
       "      <td>28.561654</td>\n",
       "      <td>89.948771</td>\n",
       "      <td>6.923643</td>\n",
       "      <td>124.267508</td>\n",
       "    </tr>\n",
       "    <tr>\n",
       "      <th>max</th>\n",
       "      <td>140.000000</td>\n",
       "      <td>145.000000</td>\n",
       "      <td>205.000000</td>\n",
       "      <td>43.675493</td>\n",
       "      <td>99.981876</td>\n",
       "      <td>9.935091</td>\n",
       "      <td>298.560117</td>\n",
       "    </tr>\n",
       "  </tbody>\n",
       "</table>\n",
       "</div>"
      ],
      "text/plain": [
       "                 N            P            K  temperature     humidity  \\\n",
       "count  2200.000000  2200.000000  2200.000000  2200.000000  2200.000000   \n",
       "mean     50.551818    53.362727    48.149091    25.616244    71.481779   \n",
       "std      36.917334    32.985883    50.647931     5.063749    22.263812   \n",
       "min       0.000000     5.000000     5.000000     8.825675    14.258040   \n",
       "25%      21.000000    28.000000    20.000000    22.769375    60.261953   \n",
       "50%      37.000000    51.000000    32.000000    25.598693    80.473146   \n",
       "75%      84.250000    68.000000    49.000000    28.561654    89.948771   \n",
       "max     140.000000   145.000000   205.000000    43.675493    99.981876   \n",
       "\n",
       "                ph     rainfall  \n",
       "count  2200.000000  2200.000000  \n",
       "mean      6.469480   103.463655  \n",
       "std       0.773938    54.958389  \n",
       "min       3.504752    20.211267  \n",
       "25%       5.971693    64.551686  \n",
       "50%       6.425045    94.867624  \n",
       "75%       6.923643   124.267508  \n",
       "max       9.935091   298.560117  "
      ]
     },
     "execution_count": 8,
     "metadata": {},
     "output_type": "execute_result"
    }
   ],
   "source": [
    "df.describe()"
   ]
  },
  {
   "cell_type": "code",
   "execution_count": 9,
   "metadata": {},
   "outputs": [
    {
     "data": {
      "text/plain": [
       "N               137\n",
       "P               117\n",
       "K                73\n",
       "temperature    2200\n",
       "humidity       2200\n",
       "ph             2200\n",
       "rainfall       2200\n",
       "label            22\n",
       "dtype: int64"
      ]
     },
     "execution_count": 9,
     "metadata": {},
     "output_type": "execute_result"
    }
   ],
   "source": [
    "df.apply(lambda a: len(a.unique()))"
   ]
  },
  {
   "cell_type": "markdown",
   "metadata": {},
   "source": [
    "## Preprocessing the Data"
   ]
  },
  {
   "cell_type": "code",
   "execution_count": 10,
   "metadata": {
    "execution": {
     "iopub.execute_input": "2022-01-19T05:43:03.790748Z",
     "iopub.status.busy": "2022-01-19T05:43:03.789984Z",
     "iopub.status.idle": "2022-01-19T05:43:03.793022Z",
     "shell.execute_reply": "2022-01-19T05:43:03.793556Z"
    },
    "papermill": {
     "duration": 0.045836,
     "end_time": "2022-01-19T05:43:03.793698",
     "exception": false,
     "start_time": "2022-01-19T05:43:03.747862",
     "status": "completed"
    },
    "tags": []
   },
   "outputs": [
    {
     "data": {
      "text/plain": [
       "array(['rice', 'maize', 'chickpea', 'kidneybeans', 'pigeonpeas',\n",
       "       'mothbeans', 'mungbean', 'blackgram', 'lentil', 'pomegranate',\n",
       "       'banana', 'mango', 'grapes', 'watermelon', 'muskmelon', 'apple',\n",
       "       'orange', 'papaya', 'coconut', 'cotton', 'jute', 'coffee'],\n",
       "      dtype=object)"
      ]
     },
     "execution_count": 10,
     "metadata": {},
     "output_type": "execute_result"
    }
   ],
   "source": [
    "df['label'].unique()"
   ]
  },
  {
   "cell_type": "code",
   "execution_count": 11,
   "metadata": {
    "execution": {
     "iopub.execute_input": "2022-01-19T05:43:03.975256Z",
     "iopub.status.busy": "2022-01-19T05:43:03.974231Z",
     "iopub.status.idle": "2022-01-19T05:43:03.980696Z",
     "shell.execute_reply": "2022-01-19T05:43:03.981294Z"
    },
    "papermill": {
     "duration": 0.050705,
     "end_time": "2022-01-19T05:43:03.981448",
     "exception": false,
     "start_time": "2022-01-19T05:43:03.930743",
     "status": "completed"
    },
    "tags": []
   },
   "outputs": [
    {
     "data": {
      "text/plain": [
       "rice           100\n",
       "maize          100\n",
       "jute           100\n",
       "cotton         100\n",
       "coconut        100\n",
       "papaya         100\n",
       "orange         100\n",
       "apple          100\n",
       "muskmelon      100\n",
       "watermelon     100\n",
       "grapes         100\n",
       "mango          100\n",
       "banana         100\n",
       "pomegranate    100\n",
       "lentil         100\n",
       "blackgram      100\n",
       "mungbean       100\n",
       "mothbeans      100\n",
       "pigeonpeas     100\n",
       "kidneybeans    100\n",
       "chickpea       100\n",
       "coffee         100\n",
       "Name: label, dtype: int64"
      ]
     },
     "execution_count": 11,
     "metadata": {},
     "output_type": "execute_result"
    }
   ],
   "source": [
    "df['label'].value_counts()"
   ]
  },
  {
   "cell_type": "code",
   "execution_count": 12,
   "metadata": {},
   "outputs": [
    {
     "data": {
      "text/plain": [
       "N              0\n",
       "P              0\n",
       "K              0\n",
       "temperature    0\n",
       "humidity       0\n",
       "ph             0\n",
       "rainfall       0\n",
       "label          0\n",
       "dtype: int64"
      ]
     },
     "execution_count": 12,
     "metadata": {},
     "output_type": "execute_result"
    }
   ],
   "source": [
    "df.isnull().sum()"
   ]
  },
  {
   "cell_type": "code",
   "execution_count": 13,
   "metadata": {},
   "outputs": [
    {
     "data": {
      "text/plain": [
       "['label']"
      ]
     },
     "execution_count": 13,
     "metadata": {},
     "output_type": "execute_result"
    }
   ],
   "source": [
    "catCol = []\n",
    "\n",
    "for i in df.dtypes.index:\n",
    "    if df.dtypes[i] == 'object':\n",
    "        catCol.append(i)\n",
    "\n",
    "catCol"
   ]
  },
  {
   "cell_type": "code",
   "execution_count": 14,
   "metadata": {},
   "outputs": [
    {
     "name": "stdout",
     "output_type": "stream",
     "text": [
      "label\n",
      "rice           100\n",
      "maize          100\n",
      "jute           100\n",
      "cotton         100\n",
      "coconut        100\n",
      "papaya         100\n",
      "orange         100\n",
      "apple          100\n",
      "muskmelon      100\n",
      "watermelon     100\n",
      "grapes         100\n",
      "mango          100\n",
      "banana         100\n",
      "pomegranate    100\n",
      "lentil         100\n",
      "blackgram      100\n",
      "mungbean       100\n",
      "mothbeans      100\n",
      "pigeonpeas     100\n",
      "kidneybeans    100\n",
      "chickpea       100\n",
      "coffee         100\n",
      "Name: label, dtype: int64\n"
     ]
    }
   ],
   "source": [
    "for c in catCol:\n",
    "    print(c)\n",
    "    print(df[c].value_counts())"
   ]
  },
  {
   "cell_type": "markdown",
   "metadata": {},
   "source": [
    "## Exploratory Data Analysis"
   ]
  },
  {
   "cell_type": "code",
   "execution_count": 15,
   "metadata": {
    "execution": {
     "iopub.execute_input": "2022-01-19T05:43:04.072215Z",
     "iopub.status.busy": "2022-01-19T05:43:04.071533Z",
     "iopub.status.idle": "2022-01-19T05:43:04.546770Z",
     "shell.execute_reply": "2022-01-19T05:43:04.547313Z"
    },
    "papermill": {
     "duration": 0.52399,
     "end_time": "2022-01-19T05:43:04.547478",
     "exception": false,
     "start_time": "2022-01-19T05:43:04.023488",
     "status": "completed"
    },
    "tags": []
   },
   "outputs": [
    {
     "data": {
      "text/plain": [
       "<AxesSubplot:>"
      ]
     },
     "execution_count": 15,
     "metadata": {},
     "output_type": "execute_result"
    },
    {
     "data": {
      "image/png": "[encoded data removed]",
      "text/plain": [
       "<Figure size 432x288 with 2 Axes>"
      ]
     },
     "metadata": {
      "needs_background": "light"
     },
     "output_type": "display_data"
    }
   ],
   "source": [
    "sns.heatmap(df.corr(),annot=True)"
   ]
  },
  {
   "cell_type": "code",
   "execution_count": 16,
   "metadata": {},
   "outputs": [],
   "source": [
    "def plotContinuous(x):\n",
    "    figure, axis = plt.subplots(nrows=1,ncols=3,figsize=(15,5),tight_layout=True)\n",
    "    axis[0].set_title('Distribution')\n",
    "    sns.distplot(x,ax=axis[0])\n",
    "    axis[1].set_title('Checking Outliers')\n",
    "    sns.boxplot(x,ax=axis[1])\n",
    "    axis[2].set_title('Relation with Output Variable')\n",
    "    sns.barplot(x = x,y = df['label'])"
   ]
  },
  {
   "cell_type": "code",
   "execution_count": 17,
   "metadata": {
    "scrolled": true
   },
   "outputs": [
    {
     "data": {
      "image/png": "[encoded data removed]",
      "text/plain": [
       "<Figure size 1080x360 with 3 Axes>"
      ]
     },
     "metadata": {
      "needs_background": "light"
     },
     "output_type": "display_data"
    }
   ],
   "source": [
    "plotContinuous(df['N'])"
   ]
  },
  {
   "cell_type": "code",
   "execution_count": 18,
   "metadata": {},
   "outputs": [
    {
     "data": {
      "image/png": "[encoded data removed]",
      "text/plain": [
       "<Figure size 1080x360 with 3 Axes>"
      ]
     },
     "metadata": {
      "needs_background": "light"
     },
     "output_type": "display_data"
    }
   ],
   "source": [
    "plotContinuous(df['P'])"
   ]
  },
  {
   "cell_type": "code",
   "execution_count": 19,
   "metadata": {},
   "outputs": [
    {
     "data": {
      "image/png": "[encoded data removed]",
      "text/plain": [
       "<Figure size 1080x360 with 3 Axes>"
      ]
     },
     "metadata": {
      "needs_background": "light"
     },
     "output_type": "display_data"
    }
   ],
   "source": [
    "plotContinuous(df['K'])"
   ]
  },
  {
   "cell_type": "code",
   "execution_count": 20,
   "metadata": {},
   "outputs": [
    {
     "data": {
      "image/png": "[encoded data removed]",
      "text/plain": [
       "<Figure size 1080x360 with 3 Axes>"
      ]
     },
     "metadata": {
      "needs_background": "light"
     },
     "output_type": "display_data"
    }
   ],
   "source": [
    "plotContinuous(df['temperature'])"
   ]
  },
  {
   "cell_type": "code",
   "execution_count": 21,
   "metadata": {},
   "outputs": [
    {
     "data": {
      "image/png": "[encoded data removed]",
      "text/plain": [
       "<Figure size 1080x360 with 3 Axes>"
      ]
     },
     "metadata": {
      "needs_background": "light"
     },
     "output_type": "display_data"
    }
   ],
   "source": [
    "plotContinuous(df['humidity'])"
   ]
  },
  {
   "cell_type": "code",
   "execution_count": 22,
   "metadata": {},
   "outputs": [
    {
     "data": {
      "image/png": "[encoded data removed]",
      "text/plain": [
       "<Figure size 1080x360 with 3 Axes>"
      ]
     },
     "metadata": {
      "needs_background": "light"
     },
     "output_type": "display_data"
    }
   ],
   "source": [
    "plotContinuous(df['ph'])"
   ]
  },
  {
   "cell_type": "code",
   "execution_count": 23,
   "metadata": {},
   "outputs": [
    {
     "data": {
      "image/png": "[encoded data removed]",
      "text/plain": [
       "<Figure size 1080x360 with 3 Axes>"
      ]
     },
     "metadata": {
      "needs_background": "light"
     },
     "output_type": "display_data"
    }
   ],
   "source": [
    "plotContinuous(df['rainfall'])"
   ]
  },
  {
   "cell_type": "code",
   "execution_count": 24,
   "metadata": {},
   "outputs": [
    {
     "data": {
      "text/plain": [
       "<seaborn.axisgrid.FacetGrid at 0x1d36a410fa0>"
      ]
     },
     "execution_count": 24,
     "metadata": {},
     "output_type": "execute_result"
    },
    {
     "data": {
      "image/png": "[encoded data removed]",
      "text/plain": [
       "<Figure size 360x360 with 1 Axes>"
      ]
     },
     "metadata": {
      "needs_background": "light"
     },
     "output_type": "display_data"
    }
   ],
   "source": [
    "sns.displot(df[\"rainfall\"])"
   ]
  },
  {
   "cell_type": "code",
   "execution_count": 25,
   "metadata": {},
   "outputs": [
    {
     "data": {
      "text/plain": [
       "<AxesSubplot:xlabel='humidity', ylabel='label'>"
      ]
     },
     "execution_count": 25,
     "metadata": {},
     "output_type": "execute_result"
    },
    {
     "data": {
      "image/png": "[encoded data removed]",
      "text/plain": [
       "<Figure size 720x720 with 1 Axes>"
      ]
     },
     "metadata": {
      "needs_background": "light"
     },
     "output_type": "display_data"
    }
   ],
   "source": [
    "plt.figure(figsize=(10,10))\n",
    "sns.barplot(df[\"humidity\"],df[\"label\"])"
   ]
  },
  {
   "cell_type": "code",
   "execution_count": 26,
   "metadata": {},
   "outputs": [
    {
     "data": {
      "text/plain": [
       "<AxesSubplot:xlabel='temperature', ylabel='label'>"
      ]
     },
     "execution_count": 26,
     "metadata": {},
     "output_type": "execute_result"
    },
    {
     "data": {
      "image/png": "[encoded data removed]",
      "text/plain": [
       "<Figure size 720x720 with 1 Axes>"
      ]
     },
     "metadata": {
      "needs_background": "light"
     },
     "output_type": "display_data"
    }
   ],
   "source": [
    "plt.figure(figsize=(10,10))\n",
    "sns.barplot(df[\"temperature\"], df['label'])"
   ]
  },
  {
   "cell_type": "code",
   "execution_count": 27,
   "metadata": {},
   "outputs": [
    {
     "data": {
      "text/plain": [
       "<AxesSubplot:xlabel='label', ylabel='count'>"
      ]
     },
     "execution_count": 27,
     "metadata": {},
     "output_type": "execute_result"
    },
    {
     "data": {
      "image/png": "[encoded data removed]",
      "text/plain": [
       "<Figure size 432x288 with 1 Axes>"
      ]
     },
     "metadata": {
      "needs_background": "light"
     },
     "output_type": "display_data"
    }
   ],
   "source": [
    "plt.xticks(rotation=90)\n",
    "sns.countplot(df['label'])"
   ]
  },
  {
   "cell_type": "code",
   "execution_count": 28,
   "metadata": {},
   "outputs": [
    {
     "data": {
      "text/plain": [
       "rice       100\n",
       "maize      100\n",
       "jute       100\n",
       "cotton     100\n",
       "coconut    100\n",
       "Name: label, dtype: int64"
      ]
     },
     "execution_count": 28,
     "metadata": {},
     "output_type": "execute_result"
    }
   ],
   "source": [
    "df['label'].value_counts().head()"
   ]
  },
  {
   "cell_type": "code",
   "execution_count": 29,
   "metadata": {},
   "outputs": [
    {
     "data": {
      "text/html": [
       "<div>\n",
       "<style scoped>\n",
       "    .dataframe tbody tr th:only-of-type {\n",
       "        vertical-align: middle;\n",
       "    }\n",
       "\n",
       "    .dataframe tbody tr th {\n",
       "        vertical-align: top;\n",
       "    }\n",
       "\n",
       "    .dataframe thead th {\n",
       "        text-align: right;\n",
       "    }\n",
       "</style>\n",
       "<table border=\"1\" class=\"dataframe\">\n",
       "  <thead>\n",
       "    <tr style=\"text-align: right;\">\n",
       "      <th></th>\n",
       "      <th>label</th>\n",
       "      <th>rainfall</th>\n",
       "    </tr>\n",
       "  </thead>\n",
       "  <tbody>\n",
       "    <tr>\n",
       "      <th>20</th>\n",
       "      <td>rice</td>\n",
       "      <td>23618.111359</td>\n",
       "    </tr>\n",
       "    <tr>\n",
       "      <th>4</th>\n",
       "      <td>coconut</td>\n",
       "      <td>17568.664580</td>\n",
       "    </tr>\n",
       "    <tr>\n",
       "      <th>8</th>\n",
       "      <td>jute</td>\n",
       "      <td>17479.279754</td>\n",
       "    </tr>\n",
       "    <tr>\n",
       "      <th>5</th>\n",
       "      <td>coffee</td>\n",
       "      <td>15806.629488</td>\n",
       "    </tr>\n",
       "    <tr>\n",
       "      <th>18</th>\n",
       "      <td>pigeonpeas</td>\n",
       "      <td>14945.756381</td>\n",
       "    </tr>\n",
       "  </tbody>\n",
       "</table>\n",
       "</div>"
      ],
      "text/plain": [
       "         label      rainfall\n",
       "20        rice  23618.111359\n",
       "4      coconut  17568.664580\n",
       "8         jute  17479.279754\n",
       "5       coffee  15806.629488\n",
       "18  pigeonpeas  14945.756381"
      ]
     },
     "execution_count": 29,
     "metadata": {},
     "output_type": "execute_result"
    }
   ],
   "source": [
    "topCrop = df.groupby('label')['rainfall'].sum().reset_index().sort_values(by='rainfall', ascending=False)\n",
    "topCrop[:5]"
   ]
  },
  {
   "cell_type": "markdown",
   "metadata": {
    "papermill": {
     "duration": 0.039153,
     "end_time": "2022-01-19T05:43:04.626871",
     "exception": false,
     "start_time": "2022-01-19T05:43:04.587718",
     "status": "completed"
    },
    "tags": []
   },
   "source": [
    "### Seperating features and target label"
   ]
  },
  {
   "cell_type": "code",
   "execution_count": 30,
   "metadata": {
    "execution": {
     "iopub.execute_input": "2022-01-19T05:43:04.711476Z",
     "iopub.status.busy": "2022-01-19T05:43:04.710837Z",
     "iopub.status.idle": "2022-01-19T05:43:04.716667Z",
     "shell.execute_reply": "2022-01-19T05:43:04.717198Z"
    },
    "papermill": {
     "duration": 0.049985,
     "end_time": "2022-01-19T05:43:04.717341",
     "exception": false,
     "start_time": "2022-01-19T05:43:04.667356",
     "status": "completed"
    },
    "tags": []
   },
   "outputs": [],
   "source": [
    "features = df[['N', 'P','K','temperature', 'humidity', 'ph', 'rainfall']]\n",
    "target = df['label']\n",
    "labels = df['label']"
   ]
  },
  {
   "cell_type": "code",
   "execution_count": 31,
   "metadata": {
    "execution": {
     "iopub.execute_input": "2022-01-19T05:43:04.800353Z",
     "iopub.status.busy": "2022-01-19T05:43:04.799714Z",
     "iopub.status.idle": "2022-01-19T05:43:04.803063Z",
     "shell.execute_reply": "2022-01-19T05:43:04.803702Z"
    },
    "papermill": {
     "duration": 0.046447,
     "end_time": "2022-01-19T05:43:04.803839",
     "exception": false,
     "start_time": "2022-01-19T05:43:04.757392",
     "status": "completed"
    },
    "tags": []
   },
   "outputs": [],
   "source": [
    "accuracy = []\n",
    "model = []"
   ]
  },
  {
   "cell_type": "code",
   "execution_count": 32,
   "metadata": {
    "execution": {
     "iopub.execute_input": "2022-01-19T05:43:04.887640Z",
     "iopub.status.busy": "2022-01-19T05:43:04.887024Z",
     "iopub.status.idle": "2022-01-19T05:43:04.895733Z",
     "shell.execute_reply": "2022-01-19T05:43:04.896261Z"
    },
    "papermill": {
     "duration": 0.0525,
     "end_time": "2022-01-19T05:43:04.896431",
     "exception": false,
     "start_time": "2022-01-19T05:43:04.843931",
     "status": "completed"
    },
    "tags": []
   },
   "outputs": [],
   "source": [
    "from sklearn.model_selection import train_test_split\n",
    "XTrain, XTest, YTrain, YTest = train_test_split(features,target,test_size = 0.2,random_state =2)"
   ]
  },
  {
   "cell_type": "markdown",
   "metadata": {
    "papermill": {
     "duration": 0.039474,
     "end_time": "2022-01-19T05:43:04.975940",
     "exception": false,
     "start_time": "2022-01-19T05:43:04.936466",
     "status": "completed"
    },
    "tags": []
   },
   "source": [
    "# Model 1: Decision Tree"
   ]
  },
  {
   "cell_type": "code",
   "execution_count": 33,
   "metadata": {
    "execution": {
     "iopub.execute_input": "2022-01-19T05:43:05.068239Z",
     "iopub.status.busy": "2022-01-19T05:43:05.067596Z",
     "iopub.status.idle": "2022-01-19T05:43:05.124928Z",
     "shell.execute_reply": "2022-01-19T05:43:05.124305Z"
    },
    "papermill": {
     "duration": 0.107583,
     "end_time": "2022-01-19T05:43:05.125047",
     "exception": false,
     "start_time": "2022-01-19T05:43:05.017464",
     "status": "completed"
    },
    "tags": []
   },
   "outputs": [
    {
     "name": "stdout",
     "output_type": "stream",
     "text": [
      "DecisionTrees's Accuracy is:  90.0\n",
      "              precision    recall  f1-score   support\n",
      "\n",
      "       apple       1.00      1.00      1.00        13\n",
      "      banana       1.00      1.00      1.00        17\n",
      "   blackgram       0.59      1.00      0.74        16\n",
      "    chickpea       1.00      1.00      1.00        21\n",
      "     coconut       0.91      1.00      0.95        21\n",
      "      coffee       1.00      1.00      1.00        22\n",
      "      cotton       1.00      1.00      1.00        20\n",
      "      grapes       1.00      1.00      1.00        18\n",
      "        jute       0.74      0.93      0.83        28\n",
      " kidneybeans       0.00      0.00      0.00        14\n",
      "      lentil       0.68      1.00      0.81        23\n",
      "       maize       1.00      1.00      1.00        21\n",
      "       mango       1.00      1.00      1.00        26\n",
      "   mothbeans       0.00      0.00      0.00        19\n",
      "    mungbean       1.00      1.00      1.00        24\n",
      "   muskmelon       1.00      1.00      1.00        23\n",
      "      orange       1.00      1.00      1.00        29\n",
      "      papaya       1.00      0.84      0.91        19\n",
      "  pigeonpeas       0.62      1.00      0.77        18\n",
      " pomegranate       1.00      1.00      1.00        17\n",
      "        rice       1.00      0.62      0.77        16\n",
      "  watermelon       1.00      1.00      1.00        15\n",
      "\n",
      "    accuracy                           0.90       440\n",
      "   macro avg       0.84      0.88      0.85       440\n",
      "weighted avg       0.86      0.90      0.87       440\n",
      "\n"
     ]
    }
   ],
   "source": [
    "from sklearn.tree import DecisionTreeClassifier\n",
    "\n",
    "dt = DecisionTreeClassifier(criterion=\"entropy\",random_state=2,max_depth=5)\n",
    "\n",
    "dt.fit(XTrain,YTrain)\n",
    "\n",
    "predictValues = dt.predict(XTest)\n",
    "trial = metrics.accuracy_score(YTest, predictValues)\n",
    "accuracy.append(trial * 100)\n",
    "model.append('Decision Tree')\n",
    "print(\"DecisionTrees's Accuracy is: \", trial * 100)\n",
    "\n",
    "print(classification_report(YTest,predictValues))"
   ]
  },
  {
   "cell_type": "code",
   "execution_count": 34,
   "metadata": {
    "execution": {
     "iopub.execute_input": "2022-01-19T05:43:05.210871Z",
     "iopub.status.busy": "2022-01-19T05:43:05.210173Z",
     "iopub.status.idle": "2022-01-19T05:43:05.213210Z",
     "shell.execute_reply": "2022-01-19T05:43:05.212618Z"
    },
    "papermill": {
     "duration": 0.047814,
     "end_time": "2022-01-19T05:43:05.213339",
     "exception": false,
     "start_time": "2022-01-19T05:43:05.165525",
     "status": "completed"
    },
    "tags": []
   },
   "outputs": [
    {
     "data": {
      "text/plain": [
       "array([0.93636364, 0.90909091, 0.91818182, 0.87045455, 0.93636364])"
      ]
     },
     "execution_count": 34,
     "metadata": {},
     "output_type": "execute_result"
    }
   ],
   "source": [
    "from sklearn.model_selection import cross_val_score\n",
    "\n",
    "score = cross_val_score(dt, features, target,cv=5)\n",
    "score"
   ]
  },
  {
   "cell_type": "markdown",
   "metadata": {
    "papermill": {
     "duration": 0.041656,
     "end_time": "2022-01-19T05:43:05.633034",
     "exception": false,
     "start_time": "2022-01-19T05:43:05.591378",
     "status": "completed"
    },
    "tags": []
   },
   "source": [
    "### Saving trained Decision Tree model"
   ]
  },
  {
   "cell_type": "code",
   "execution_count": 35,
   "metadata": {
    "execution": {
     "iopub.execute_input": "2022-01-19T05:43:05.719833Z",
     "iopub.status.busy": "2022-01-19T05:43:05.719107Z",
     "iopub.status.idle": "2022-01-19T05:43:05.724082Z",
     "shell.execute_reply": "2022-01-19T05:43:05.724645Z"
    },
    "papermill": {
     "duration": 0.050537,
     "end_time": "2022-01-19T05:43:05.724796",
     "exception": false,
     "start_time": "2022-01-19T05:43:05.674259",
     "status": "completed"
    },
    "tags": []
   },
   "outputs": [
    {
     "data": {
      "text/plain": [
       "\"\\nimport pickle\\n\\ndtPKLFilename = 'crDtClassifier.pkl'\\ndtModelPKL = open(dtPKLFilename, 'wb')\\npickle.dump(dt, dtModelPKL)\\ndtModelPKL.close()\\n\""
      ]
     },
     "execution_count": 35,
     "metadata": {},
     "output_type": "execute_result"
    }
   ],
   "source": [
    "\"\"\"\n",
    "import pickle\n",
    "\n",
    "dtPKLFilename = 'crDtClassifier.pkl'\n",
    "dtModelPKL = open(dtPKLFilename, 'wb')\n",
    "pickle.dump(dt, dtModelPKL)\n",
    "dtModelPKL.close()\n",
    "\"\"\""
   ]
  },
  {
   "cell_type": "markdown",
   "metadata": {
    "papermill": {
     "duration": 0.04115,
     "end_time": "2022-01-19T05:43:05.807761",
     "exception": false,
     "start_time": "2022-01-19T05:43:05.766611",
     "status": "completed"
    },
    "tags": []
   },
   "source": [
    "# Model 2: Guassian Naive Bayes"
   ]
  },
  {
   "cell_type": "code",
   "execution_count": 36,
   "metadata": {
    "execution": {
     "iopub.execute_input": "2022-01-19T05:43:05.917742Z",
     "iopub.status.busy": "2022-01-19T05:43:05.916712Z",
     "iopub.status.idle": "2022-01-19T05:43:05.965350Z",
     "shell.execute_reply": "2022-01-19T05:43:05.966018Z"
    },
    "papermill": {
     "duration": 0.107743,
     "end_time": "2022-01-19T05:43:05.966167",
     "exception": false,
     "start_time": "2022-01-19T05:43:05.858424",
     "status": "completed"
    },
    "tags": []
   },
   "outputs": [],
   "source": [
    "from sklearn.naive_bayes import GaussianNB\n",
    "\n",
    "nb = GaussianNB()\n",
    "\n",
    "nb.fit(XTrain,YTrain)\n",
    "\n",
    "predictValues = nb.predict(XTest)\n",
    "trail = metrics.accuracy_score(YTest, predictValues)\n"
   ]
  },
  {
   "cell_type": "code",
   "execution_count": 37,
   "metadata": {},
   "outputs": [
    {
     "name": "stdout",
     "output_type": "stream",
     "text": [
      "Naive Bayes's Accuracy is:  90.0\n",
      "              precision    recall  f1-score   support\n",
      "\n",
      "       apple       1.00      1.00      1.00        13\n",
      "      banana       1.00      1.00      1.00        17\n",
      "   blackgram       1.00      1.00      1.00        16\n",
      "    chickpea       1.00      1.00      1.00        21\n",
      "     coconut       1.00      1.00      1.00        21\n",
      "      coffee       1.00      1.00      1.00        22\n",
      "      cotton       1.00      1.00      1.00        20\n",
      "      grapes       1.00      1.00      1.00        18\n",
      "        jute       0.88      1.00      0.93        28\n",
      " kidneybeans       1.00      1.00      1.00        14\n",
      "      lentil       1.00      1.00      1.00        23\n",
      "       maize       1.00      1.00      1.00        21\n",
      "       mango       1.00      1.00      1.00        26\n",
      "   mothbeans       1.00      1.00      1.00        19\n",
      "    mungbean       1.00      1.00      1.00        24\n",
      "   muskmelon       1.00      1.00      1.00        23\n",
      "      orange       1.00      1.00      1.00        29\n",
      "      papaya       1.00      1.00      1.00        19\n",
      "  pigeonpeas       1.00      1.00      1.00        18\n",
      " pomegranate       1.00      1.00      1.00        17\n",
      "        rice       1.00      0.75      0.86        16\n",
      "  watermelon       1.00      1.00      1.00        15\n",
      "\n",
      "    accuracy                           0.99       440\n",
      "   macro avg       0.99      0.99      0.99       440\n",
      "weighted avg       0.99      0.99      0.99       440\n",
      "\n"
     ]
    }
   ],
   "source": [
    "accuracy.append(trial * 100)\n",
    "model.append('Naive Bayes')\n",
    "print(\"Naive Bayes's Accuracy is: \", trial * 100)\n",
    "\n",
    "print(classification_report(YTest,predictValues))"
   ]
  },
  {
   "cell_type": "code",
   "execution_count": 38,
   "metadata": {
    "execution": {
     "iopub.execute_input": "2022-01-19T05:43:06.057149Z",
     "iopub.status.busy": "2022-01-19T05:43:06.056101Z",
     "iopub.status.idle": "2022-01-19T05:43:06.139853Z",
     "shell.execute_reply": "2022-01-19T05:43:06.140342Z"
    },
    "papermill": {
     "duration": 0.130813,
     "end_time": "2022-01-19T05:43:06.140516",
     "exception": false,
     "start_time": "2022-01-19T05:43:06.009703",
     "status": "completed"
    },
    "tags": []
   },
   "outputs": [
    {
     "data": {
      "text/plain": [
       "array([0.99772727, 0.99545455, 0.99545455, 0.99545455, 0.99090909])"
      ]
     },
     "execution_count": 38,
     "metadata": {},
     "output_type": "execute_result"
    }
   ],
   "source": [
    "# Cross validation score (NaiveBayes)\n",
    "score = cross_val_score(nb,features,target,cv=5)\n",
    "score"
   ]
  },
  {
   "cell_type": "markdown",
   "metadata": {
    "papermill": {
     "duration": 0.044216,
     "end_time": "2022-01-19T05:43:06.228561",
     "exception": false,
     "start_time": "2022-01-19T05:43:06.184345",
     "status": "completed"
    },
    "tags": []
   },
   "source": [
    "### Saving trained Guassian Naive Bayes model"
   ]
  },
  {
   "cell_type": "code",
   "execution_count": 39,
   "metadata": {
    "execution": {
     "iopub.execute_input": "2022-01-19T05:43:06.317717Z",
     "iopub.status.busy": "2022-01-19T05:43:06.316731Z",
     "iopub.status.idle": "2022-01-19T05:43:06.322155Z",
     "shell.execute_reply": "2022-01-19T05:43:06.322709Z"
    },
    "papermill": {
     "duration": 0.051779,
     "end_time": "2022-01-19T05:43:06.322857",
     "exception": false,
     "start_time": "2022-01-19T05:43:06.271078",
     "status": "completed"
    },
    "tags": []
   },
   "outputs": [
    {
     "data": {
      "text/plain": [
       "\"\\nimport pickle\\n\\ngnbpklFilename = 'crGnbClassifier.pkl'\\ngnbModelpkl = open(gnbpklFilename, 'wb')\\npickle.dump(nb, gnbModelpkl)\\ngnbModelpkl.close()\\n\""
      ]
     },
     "execution_count": 39,
     "metadata": {},
     "output_type": "execute_result"
    }
   ],
   "source": [
    "\"\"\"\n",
    "import pickle\n",
    "\n",
    "gnbpklFilename = 'crGnbClassifier.pkl'\n",
    "gnbModelpkl = open(gnbpklFilename, 'wb')\n",
    "pickle.dump(nb, gnbModelpkl)\n",
    "gnbModelpkl.close()\n",
    "\"\"\""
   ]
  },
  {
   "cell_type": "markdown",
   "metadata": {
    "papermill": {
     "duration": 0.042554,
     "end_time": "2022-01-19T05:43:06.408062",
     "exception": false,
     "start_time": "2022-01-19T05:43:06.365508",
     "status": "completed"
    },
    "tags": []
   },
   "source": [
    "# Model 3: Support Vector Machine (SVM)"
   ]
  },
  {
   "cell_type": "code",
   "execution_count": 40,
   "metadata": {
    "execution": {
     "iopub.execute_input": "2022-01-19T05:43:06.502058Z",
     "iopub.status.busy": "2022-01-19T05:43:06.501316Z",
     "iopub.status.idle": "2022-01-19T05:43:06.908550Z",
     "shell.execute_reply": "2022-01-19T05:43:06.907970Z"
    },
    "papermill": {
     "duration": 0.458083,
     "end_time": "2022-01-19T05:43:06.908677",
     "exception": false,
     "start_time": "2022-01-19T05:43:06.450594",
     "status": "completed"
    },
    "tags": []
   },
   "outputs": [
    {
     "name": "stdout",
     "output_type": "stream",
     "text": [
      "SVM's Accuracy is:  10.681818181818182\n",
      "              precision    recall  f1-score   support\n",
      "\n",
      "       apple       1.00      0.23      0.38        13\n",
      "      banana       1.00      0.24      0.38        17\n",
      "   blackgram       1.00      0.19      0.32        16\n",
      "    chickpea       1.00      0.05      0.09        21\n",
      "     coconut       1.00      0.05      0.09        21\n",
      "      coffee       0.00      0.00      0.00        22\n",
      "      cotton       1.00      0.05      0.10        20\n",
      "      grapes       1.00      0.06      0.11        18\n",
      "        jute       1.00      0.07      0.13        28\n",
      " kidneybeans       0.03      1.00      0.07        14\n",
      "      lentil       0.00      0.00      0.00        23\n",
      "       maize       0.00      0.00      0.00        21\n",
      "       mango       0.00      0.00      0.00        26\n",
      "   mothbeans       0.00      0.00      0.00        19\n",
      "    mungbean       1.00      0.12      0.22        24\n",
      "   muskmelon       1.00      0.30      0.47        23\n",
      "      orange       1.00      0.03      0.07        29\n",
      "      papaya       1.00      0.05      0.10        19\n",
      "  pigeonpeas       0.00      0.00      0.00        18\n",
      " pomegranate       1.00      0.12      0.21        17\n",
      "        rice       0.50      0.06      0.11        16\n",
      "  watermelon       1.00      0.13      0.24        15\n",
      "\n",
      "    accuracy                           0.11       440\n",
      "   macro avg       0.66      0.13      0.14       440\n",
      "weighted avg       0.66      0.11      0.13       440\n",
      "\n"
     ]
    }
   ],
   "source": [
    "from sklearn.svm import SVC\n",
    "\n",
    "svm = SVC(gamma='auto')\n",
    "\n",
    "svm.fit(XTrain,YTrain)\n",
    "\n",
    "predictValues = svm.predict(XTest)\n",
    "\n",
    "trail = metrics.accuracy_score(YTest, predictValues)\n",
    "accuracy.append(trail * 100)\n",
    "model.append('SVM')\n",
    "print(\"SVM's Accuracy is: \", trail * 100)\n",
    "\n",
    "print(classification_report(YTest,predictValues))"
   ]
  },
  {
   "cell_type": "code",
   "execution_count": 41,
   "metadata": {
    "execution": {
     "iopub.execute_input": "2022-01-19T05:43:07.004875Z",
     "iopub.status.busy": "2022-01-19T05:43:07.004229Z",
     "iopub.status.idle": "2022-01-19T05:43:08.802385Z",
     "shell.execute_reply": "2022-01-19T05:43:08.802860Z"
    },
    "papermill": {
     "duration": 1.849917,
     "end_time": "2022-01-19T05:43:08.803004",
     "exception": false,
     "start_time": "2022-01-19T05:43:06.953087",
     "status": "completed"
    },
    "tags": []
   },
   "outputs": [
    {
     "data": {
      "text/plain": [
       "array([0.27727273, 0.28863636, 0.29090909, 0.275     , 0.26818182])"
      ]
     },
     "execution_count": 41,
     "metadata": {},
     "output_type": "execute_result"
    }
   ],
   "source": [
    "# Cross validation score (SVM)\n",
    "score = cross_val_score(svm,features,target,cv=5)\n",
    "score"
   ]
  },
  {
   "cell_type": "markdown",
   "metadata": {
    "papermill": {
     "duration": 0.044005,
     "end_time": "2022-01-19T05:43:08.902449",
     "exception": false,
     "start_time": "2022-01-19T05:43:08.858444",
     "status": "completed"
    },
    "tags": []
   },
   "source": [
    "# Model 4: Logistic Regression"
   ]
  },
  {
   "cell_type": "code",
   "execution_count": 42,
   "metadata": {
    "execution": {
     "iopub.execute_input": "2022-01-19T05:43:09.005272Z",
     "iopub.status.busy": "2022-01-19T05:43:09.004280Z",
     "iopub.status.idle": "2022-01-19T05:43:09.440693Z",
     "shell.execute_reply": "2022-01-19T05:43:09.441336Z"
    },
    "papermill": {
     "duration": 0.484795,
     "end_time": "2022-01-19T05:43:09.441513",
     "exception": false,
     "start_time": "2022-01-19T05:43:08.956718",
     "status": "completed"
    },
    "tags": []
   },
   "outputs": [
    {
     "name": "stdout",
     "output_type": "stream",
     "text": [
      "Logistic Regression's Accuracy is:  95.22727272727273\n",
      "              precision    recall  f1-score   support\n",
      "\n",
      "       apple       1.00      1.00      1.00        13\n",
      "      banana       1.00      1.00      1.00        17\n",
      "   blackgram       0.86      0.75      0.80        16\n",
      "    chickpea       1.00      1.00      1.00        21\n",
      "     coconut       1.00      1.00      1.00        21\n",
      "      coffee       1.00      1.00      1.00        22\n",
      "      cotton       0.86      0.90      0.88        20\n",
      "      grapes       1.00      1.00      1.00        18\n",
      "        jute       0.84      0.93      0.88        28\n",
      " kidneybeans       1.00      1.00      1.00        14\n",
      "      lentil       0.88      1.00      0.94        23\n",
      "       maize       0.90      0.86      0.88        21\n",
      "       mango       0.96      1.00      0.98        26\n",
      "   mothbeans       0.84      0.84      0.84        19\n",
      "    mungbean       1.00      0.96      0.98        24\n",
      "   muskmelon       1.00      1.00      1.00        23\n",
      "      orange       1.00      1.00      1.00        29\n",
      "      papaya       1.00      0.95      0.97        19\n",
      "  pigeonpeas       1.00      1.00      1.00        18\n",
      " pomegranate       1.00      1.00      1.00        17\n",
      "        rice       0.85      0.69      0.76        16\n",
      "  watermelon       1.00      1.00      1.00        15\n",
      "\n",
      "    accuracy                           0.95       440\n",
      "   macro avg       0.95      0.95      0.95       440\n",
      "weighted avg       0.95      0.95      0.95       440\n",
      "\n"
     ]
    }
   ],
   "source": [
    "from sklearn.linear_model import LogisticRegression\n",
    "\n",
    "lr = LogisticRegression(random_state=2)\n",
    "\n",
    "lr.fit(XTrain,YTrain)\n",
    "\n",
    "predictValues = lr.predict(XTest)\n",
    "\n",
    "trail = metrics.accuracy_score(YTest, predictValues)\n",
    "accuracy.append(trail * 100)\n",
    "model.append('Logistic Regression')\n",
    "print(\"Logistic Regression's Accuracy is: \", trail * 100)\n",
    "\n",
    "print(classification_report(YTest,predictValues))"
   ]
  },
  {
   "cell_type": "code",
   "execution_count": 43,
   "metadata": {
    "execution": {
     "iopub.execute_input": "2022-01-19T05:43:09.537194Z",
     "iopub.status.busy": "2022-01-19T05:43:09.536171Z",
     "iopub.status.idle": "2022-01-19T05:43:11.070990Z",
     "shell.execute_reply": "2022-01-19T05:43:11.070473Z"
    },
    "papermill": {
     "duration": 1.584202,
     "end_time": "2022-01-19T05:43:11.071109",
     "exception": false,
     "start_time": "2022-01-19T05:43:09.486907",
     "status": "completed"
    },
    "tags": []
   },
   "outputs": [
    {
     "data": {
      "text/plain": [
       "array([0.95      , 0.96590909, 0.94772727, 0.96590909, 0.94318182])"
      ]
     },
     "execution_count": 43,
     "metadata": {},
     "output_type": "execute_result"
    }
   ],
   "source": [
    "# Cross validation score (Logistic Regression)\n",
    "score = cross_val_score(lr,features,target,cv=5)\n",
    "score"
   ]
  },
  {
   "cell_type": "markdown",
   "metadata": {
    "papermill": {
     "duration": 0.044379,
     "end_time": "2022-01-19T05:43:11.160283",
     "exception": false,
     "start_time": "2022-01-19T05:43:11.115904",
     "status": "completed"
    },
    "tags": []
   },
   "source": [
    "### Saving trained Logistic Regression model"
   ]
  },
  {
   "cell_type": "code",
   "execution_count": 44,
   "metadata": {
    "execution": {
     "iopub.execute_input": "2022-01-19T05:43:11.253520Z",
     "iopub.status.busy": "2022-01-19T05:43:11.252519Z",
     "iopub.status.idle": "2022-01-19T05:43:11.258068Z",
     "shell.execute_reply": "2022-01-19T05:43:11.258711Z"
    },
    "papermill": {
     "duration": 0.054002,
     "end_time": "2022-01-19T05:43:11.258869",
     "exception": false,
     "start_time": "2022-01-19T05:43:11.204867",
     "status": "completed"
    },
    "tags": []
   },
   "outputs": [
    {
     "data": {
      "text/plain": [
       "\"\\nimport pickle\\n\\nlrPklFilename = 'crLogisticRegression.pkl'\\nlrModelPkl = open(lrPklFilename, 'wb')\\npickle.dump(lr, lrModelPkl)\\nlrModelPkl.close()\\n\""
      ]
     },
     "execution_count": 44,
     "metadata": {},
     "output_type": "execute_result"
    }
   ],
   "source": [
    "\"\"\"\n",
    "import pickle\n",
    "\n",
    "lrPklFilename = 'crLogisticRegression.pkl'\n",
    "lrModelPkl = open(lrPklFilename, 'wb')\n",
    "pickle.dump(lr, lrModelPkl)\n",
    "lrModelPkl.close()\n",
    "\"\"\""
   ]
  },
  {
   "cell_type": "markdown",
   "metadata": {
    "papermill": {
     "duration": 0.044439,
     "end_time": "2022-01-19T05:43:11.347958",
     "exception": false,
     "start_time": "2022-01-19T05:43:11.303519",
     "status": "completed"
    },
    "tags": []
   },
   "source": [
    "# Model 5: Random Forest"
   ]
  },
  {
   "cell_type": "code",
   "execution_count": 45,
   "metadata": {
    "execution": {
     "iopub.execute_input": "2022-01-19T05:43:11.444242Z",
     "iopub.status.busy": "2022-01-19T05:43:11.439880Z",
     "iopub.status.idle": "2022-01-19T05:43:11.590925Z",
     "shell.execute_reply": "2022-01-19T05:43:11.590151Z"
    },
    "papermill": {
     "duration": 0.198284,
     "end_time": "2022-01-19T05:43:11.591096",
     "exception": false,
     "start_time": "2022-01-19T05:43:11.392812",
     "status": "completed"
    },
    "tags": []
   },
   "outputs": [
    {
     "name": "stdout",
     "output_type": "stream",
     "text": [
      "RF's Accuracy is:  99.0909090909091\n",
      "              precision    recall  f1-score   support\n",
      "\n",
      "       apple       1.00      1.00      1.00        13\n",
      "      banana       1.00      1.00      1.00        17\n",
      "   blackgram       0.94      1.00      0.97        16\n",
      "    chickpea       1.00      1.00      1.00        21\n",
      "     coconut       1.00      1.00      1.00        21\n",
      "      coffee       1.00      1.00      1.00        22\n",
      "      cotton       1.00      1.00      1.00        20\n",
      "      grapes       1.00      1.00      1.00        18\n",
      "        jute       0.90      1.00      0.95        28\n",
      " kidneybeans       1.00      1.00      1.00        14\n",
      "      lentil       1.00      1.00      1.00        23\n",
      "       maize       1.00      1.00      1.00        21\n",
      "       mango       1.00      1.00      1.00        26\n",
      "   mothbeans       1.00      0.95      0.97        19\n",
      "    mungbean       1.00      1.00      1.00        24\n",
      "   muskmelon       1.00      1.00      1.00        23\n",
      "      orange       1.00      1.00      1.00        29\n",
      "      papaya       1.00      1.00      1.00        19\n",
      "  pigeonpeas       1.00      1.00      1.00        18\n",
      " pomegranate       1.00      1.00      1.00        17\n",
      "        rice       1.00      0.81      0.90        16\n",
      "  watermelon       1.00      1.00      1.00        15\n",
      "\n",
      "    accuracy                           0.99       440\n",
      "   macro avg       0.99      0.99      0.99       440\n",
      "weighted avg       0.99      0.99      0.99       440\n",
      "\n"
     ]
    }
   ],
   "source": [
    "from sklearn.ensemble import RandomForestClassifier\n",
    "\n",
    "rf = RandomForestClassifier(n_estimators=20, random_state=0)\n",
    "rf.fit(XTrain,YTrain)\n",
    "\n",
    "predictValues = rf.predict(XTest)\n",
    "\n",
    "trail = metrics.accuracy_score(YTest, predictValues)\n",
    "accuracy.append(trail * 100)\n",
    "model.append('RF')\n",
    "print(\"RF's Accuracy is: \", trail * 100)\n",
    "\n",
    "print(classification_report(YTest,predictValues))"
   ]
  },
  {
   "cell_type": "code",
   "execution_count": 46,
   "metadata": {
    "execution": {
     "iopub.execute_input": "2022-01-19T05:43:11.690705Z",
     "iopub.status.busy": "2022-01-19T05:43:11.689929Z",
     "iopub.status.idle": "2022-01-19T05:43:12.181176Z",
     "shell.execute_reply": "2022-01-19T05:43:12.180538Z"
    },
    "papermill": {
     "duration": 0.541347,
     "end_time": "2022-01-19T05:43:12.181295",
     "exception": false,
     "start_time": "2022-01-19T05:43:11.639948",
     "status": "completed"
    },
    "tags": []
   },
   "outputs": [
    {
     "data": {
      "text/plain": [
       "array([0.99772727, 0.99545455, 0.99772727, 0.99318182, 0.98863636])"
      ]
     },
     "execution_count": 46,
     "metadata": {},
     "output_type": "execute_result"
    }
   ],
   "source": [
    "# Cross validation score (Random Forest)\n",
    "score = cross_val_score(rf,features,target,cv=5)\n",
    "score"
   ]
  },
  {
   "cell_type": "markdown",
   "metadata": {
    "papermill": {
     "duration": 0.04668,
     "end_time": "2022-01-19T05:43:12.273949",
     "exception": false,
     "start_time": "2022-01-19T05:43:12.227269",
     "status": "completed"
    },
    "tags": []
   },
   "source": [
    "### Saving trained Random Forest model"
   ]
  },
  {
   "cell_type": "code",
   "execution_count": 47,
   "metadata": {
    "execution": {
     "iopub.execute_input": "2022-01-19T05:43:12.375241Z",
     "iopub.status.busy": "2022-01-19T05:43:12.374576Z",
     "iopub.status.idle": "2022-01-19T05:43:12.378494Z",
     "shell.execute_reply": "2022-01-19T05:43:12.377941Z"
    },
    "papermill": {
     "duration": 0.057739,
     "end_time": "2022-01-19T05:43:12.378609",
     "exception": false,
     "start_time": "2022-01-19T05:43:12.320870",
     "status": "completed"
    },
    "tags": []
   },
   "outputs": [
    {
     "data": {
      "text/plain": [
       "\"\\nimport pickle\\n\\nrfPklFilename = 'RandomForest.pkl'\\nrfModelPkl = open(rfPklFilename, 'wb')\\npickle.dump(rf, rfModelPkl)\\nrfModelPkl.close()\\n\""
      ]
     },
     "execution_count": 47,
     "metadata": {},
     "output_type": "execute_result"
    }
   ],
   "source": [
    "\"\"\"\n",
    "import pickle\n",
    "\n",
    "rfPklFilename = 'RandomForest.pkl'\n",
    "rfModelPkl = open(rfPklFilename, 'wb')\n",
    "pickle.dump(rf, rfModelPkl)\n",
    "rfModelPkl.close()\n",
    "\"\"\""
   ]
  },
  {
   "cell_type": "markdown",
   "metadata": {
    "papermill": {
     "duration": 0.046181,
     "end_time": "2022-01-19T05:43:12.470853",
     "exception": false,
     "start_time": "2022-01-19T05:43:12.424672",
     "status": "completed"
    },
    "tags": []
   },
   "source": [
    "# Model 6: XGBoost"
   ]
  },
  {
   "cell_type": "code",
   "execution_count": 48,
   "metadata": {
    "execution": {
     "iopub.execute_input": "2022-01-19T05:43:12.569952Z",
     "iopub.status.busy": "2022-01-19T05:43:12.568949Z",
     "iopub.status.idle": "2022-01-19T05:43:14.054441Z",
     "shell.execute_reply": "2022-01-19T05:43:14.056219Z"
    },
    "papermill": {
     "duration": 1.539877,
     "end_time": "2022-01-19T05:43:14.056679",
     "exception": false,
     "start_time": "2022-01-19T05:43:12.516802",
     "status": "completed"
    },
    "scrolled": true,
    "tags": []
   },
   "outputs": [
    {
     "name": "stdout",
     "output_type": "stream",
     "text": [
      "[21:20:51] WARNING: C:/Users/Administrator/workspace/xgboost-win64_release_1.5.1/src/learner.cc:1115: Starting in XGBoost 1.3.0, the default evaluation metric used with the objective 'multi:softprob' was changed from 'merror' to 'mlogloss'. Explicitly set eval_metric if you'd like to restore the old behavior.\n",
      "XGBoost's Accuracy is:  99.31818181818181\n",
      "              precision    recall  f1-score   support\n",
      "\n",
      "       apple       1.00      1.00      1.00        13\n",
      "      banana       1.00      1.00      1.00        17\n",
      "   blackgram       1.00      1.00      1.00        16\n",
      "    chickpea       1.00      1.00      1.00        21\n",
      "     coconut       1.00      1.00      1.00        21\n",
      "      coffee       0.96      1.00      0.98        22\n",
      "      cotton       1.00      1.00      1.00        20\n",
      "      grapes       1.00      1.00      1.00        18\n",
      "        jute       1.00      0.93      0.96        28\n",
      " kidneybeans       1.00      1.00      1.00        14\n",
      "      lentil       0.96      1.00      0.98        23\n",
      "       maize       1.00      1.00      1.00        21\n",
      "       mango       1.00      1.00      1.00        26\n",
      "   mothbeans       1.00      0.95      0.97        19\n",
      "    mungbean       1.00      1.00      1.00        24\n",
      "   muskmelon       1.00      1.00      1.00        23\n",
      "      orange       1.00      1.00      1.00        29\n",
      "      papaya       1.00      1.00      1.00        19\n",
      "  pigeonpeas       1.00      1.00      1.00        18\n",
      " pomegranate       1.00      1.00      1.00        17\n",
      "        rice       0.94      1.00      0.97        16\n",
      "  watermelon       1.00      1.00      1.00        15\n",
      "\n",
      "    accuracy                           0.99       440\n",
      "   macro avg       0.99      0.99      0.99       440\n",
      "weighted avg       0.99      0.99      0.99       440\n",
      "\n"
     ]
    }
   ],
   "source": [
    "import xgboost as xg\n",
    "xgb = xg.XGBClassifier()\n",
    "xgb.fit(XTrain,YTrain)\n",
    "\n",
    "predictValues = xgb.predict(XTest)\n",
    "\n",
    "trail = metrics.accuracy_score(YTest, predictValues)\n",
    "accuracy.append(trail * 100)\n",
    "model.append('XGBoost')\n",
    "print(\"XGBoost's Accuracy is: \", trail * 100)\n",
    "\n",
    "print(classification_report(YTest,predictValues))"
   ]
  },
  {
   "cell_type": "code",
   "execution_count": 49,
   "metadata": {
    "execution": {
     "iopub.execute_input": "2022-01-19T05:43:14.190819Z",
     "iopub.status.busy": "2022-01-19T05:43:14.189997Z",
     "iopub.status.idle": "2022-01-19T05:43:16.681042Z",
     "shell.execute_reply": "2022-01-19T05:43:16.682229Z"
    },
    "papermill": {
     "duration": 2.564589,
     "end_time": "2022-01-19T05:43:16.682446",
     "exception": false,
     "start_time": "2022-01-19T05:43:14.117857",
     "status": "completed"
    },
    "tags": []
   },
   "outputs": [
    {
     "name": "stdout",
     "output_type": "stream",
     "text": [
      "[21:20:52] WARNING: C:/Users/Administrator/workspace/xgboost-win64_release_1.5.1/src/learner.cc:1115: Starting in XGBoost 1.3.0, the default evaluation metric used with the objective 'multi:softprob' was changed from 'merror' to 'mlogloss'. Explicitly set eval_metric if you'd like to restore the old behavior.\n",
      "[21:20:52] WARNING: C:/Users/Administrator/workspace/xgboost-win64_release_1.5.1/src/learner.cc:1115: Starting in XGBoost 1.3.0, the default evaluation metric used with the objective 'multi:softprob' was changed from 'merror' to 'mlogloss'. Explicitly set eval_metric if you'd like to restore the old behavior.\n",
      "[21:20:53] WARNING: C:/Users/Administrator/workspace/xgboost-win64_release_1.5.1/src/learner.cc:1115: Starting in XGBoost 1.3.0, the default evaluation metric used with the objective 'multi:softprob' was changed from 'merror' to 'mlogloss'. Explicitly set eval_metric if you'd like to restore the old behavior.\n",
      "[21:20:53] WARNING: C:/Users/Administrator/workspace/xgboost-win64_release_1.5.1/src/learner.cc:1115: Starting in XGBoost 1.3.0, the default evaluation metric used with the objective 'multi:softprob' was changed from 'merror' to 'mlogloss'. Explicitly set eval_metric if you'd like to restore the old behavior.\n",
      "[21:20:54] WARNING: C:/Users/Administrator/workspace/xgboost-win64_release_1.5.1/src/learner.cc:1115: Starting in XGBoost 1.3.0, the default evaluation metric used with the objective 'multi:softprob' was changed from 'merror' to 'mlogloss'. Explicitly set eval_metric if you'd like to restore the old behavior.\n"
     ]
    },
    {
     "data": {
      "text/plain": [
       "array([0.99318182, 0.99318182, 0.99318182, 0.99090909, 0.99090909])"
      ]
     },
     "execution_count": 49,
     "metadata": {},
     "output_type": "execute_result"
    }
   ],
   "source": [
    "score = cross_val_score(xgb,features,target,cv=5)\n",
    "score"
   ]
  },
  {
   "cell_type": "markdown",
   "metadata": {
    "papermill": {
     "duration": 0.060724,
     "end_time": "2022-01-19T05:43:16.806367",
     "exception": false,
     "start_time": "2022-01-19T05:43:16.745643",
     "status": "completed"
    },
    "tags": []
   },
   "source": [
    "### Saving trained XGBoost model"
   ]
  },
  {
   "cell_type": "code",
   "execution_count": 50,
   "metadata": {
    "execution": {
     "iopub.execute_input": "2022-01-19T05:43:16.947032Z",
     "iopub.status.busy": "2022-01-19T05:43:16.945974Z",
     "iopub.status.idle": "2022-01-19T05:43:16.950278Z",
     "shell.execute_reply": "2022-01-19T05:43:16.950835Z"
    },
    "papermill": {
     "duration": 0.072817,
     "end_time": "2022-01-19T05:43:16.950999",
     "exception": false,
     "start_time": "2022-01-19T05:43:16.878182",
     "status": "completed"
    },
    "tags": []
   },
   "outputs": [
    {
     "data": {
      "text/plain": [
       "\"\\nimport pickle\\n\\nxgbPklFilename = 'crXGBoost.pkl'\\nxgbModelPkl = open(xgbPklFilename, 'wb')\\npickle.dump(xgb, xgbModelPkl)\\nxgbModelPkl.close()\\n\""
      ]
     },
     "execution_count": 50,
     "metadata": {},
     "output_type": "execute_result"
    }
   ],
   "source": [
    "\"\"\"\n",
    "import pickle\n",
    "\n",
    "xgbPklFilename = 'crXGBoost.pkl'\n",
    "xgbModelPkl = open(xgbPklFilename, 'wb')\n",
    "pickle.dump(xgb, xgbModelPkl)\n",
    "xgbModelPkl.close()\n",
    "\"\"\""
   ]
  },
  {
   "cell_type": "markdown",
   "metadata": {
    "papermill": {
     "duration": 0.047575,
     "end_time": "2022-01-19T05:43:17.046191",
     "exception": false,
     "start_time": "2022-01-19T05:43:16.998616",
     "status": "completed"
    },
    "tags": []
   },
   "source": [
    "## Accuracy Comparison"
   ]
  },
  {
   "cell_type": "code",
   "execution_count": 51,
   "metadata": {
    "execution": {
     "iopub.execute_input": "2022-01-19T05:43:17.145965Z",
     "iopub.status.busy": "2022-01-19T05:43:17.145243Z",
     "iopub.status.idle": "2022-01-19T05:43:17.313434Z",
     "shell.execute_reply": "2022-01-19T05:43:17.313923Z"
    },
    "papermill": {
     "duration": 0.219581,
     "end_time": "2022-01-19T05:43:17.314085",
     "exception": false,
     "start_time": "2022-01-19T05:43:17.094504",
     "status": "completed"
    },
    "tags": []
   },
   "outputs": [
    {
     "data": {
      "text/plain": [
       "<AxesSubplot:title={'center':'Accuracy Comparison'}, xlabel='Accuracy', ylabel='Algorithm'>"
      ]
     },
     "execution_count": 51,
     "metadata": {},
     "output_type": "execute_result"
    },
    {
     "data": {
      "image/png": "[encoded data removed]",
      "text/plain": [
       "<Figure size 1000x500 with 1 Axes>"
      ]
     },
     "metadata": {
      "needs_background": "light"
     },
     "output_type": "display_data"
    }
   ],
   "source": [
    "plt.figure(figsize=[10,5],dpi = 100)\n",
    "plt.title('Accuracy Comparison')\n",
    "plt.xlabel('Accuracy')\n",
    "plt.ylabel('Algorithm')\n",
    "sns.barplot(x = accuracy, y = model, palette='dark')"
   ]
  },
  {
   "cell_type": "code",
   "execution_count": 52,
   "metadata": {
    "execution": {
     "iopub.execute_input": "2022-01-19T05:43:17.420951Z",
     "iopub.status.busy": "2022-01-19T05:43:17.420254Z",
     "iopub.status.idle": "2022-01-19T05:43:17.423129Z",
     "shell.execute_reply": "2022-01-19T05:43:17.423801Z"
    },
    "papermill": {
     "duration": 0.059955,
     "end_time": "2022-01-19T05:43:17.423964",
     "exception": false,
     "start_time": "2022-01-19T05:43:17.364009",
     "status": "completed"
    },
    "tags": []
   },
   "outputs": [
    {
     "name": "stdout",
     "output_type": "stream",
     "text": [
      "Decision Tree --> 90.0 %\n",
      "Naive Bayes --> 90.0 %\n",
      "SVM --> 10.681818181818182 %\n",
      "Logistic Regression --> 95.22727272727273 %\n",
      "RF --> 99.0909090909091 %\n",
      "XGBoost --> 99.31818181818181 %\n"
     ]
    }
   ],
   "source": [
    "accuracyModels = dict(zip(model, accuracy))\n",
    "for i, j in accuracyModels.items():\n",
    "    print (i, '-->', j, '%')"
   ]
  },
  {
   "cell_type": "markdown",
   "metadata": {
    "papermill": {
     "duration": 0.048751,
     "end_time": "2022-01-19T05:43:17.522918",
     "exception": false,
     "start_time": "2022-01-19T05:43:17.474167",
     "status": "completed"
    },
    "tags": []
   },
   "source": [
    "## Making a prediction"
   ]
  },
  {
   "cell_type": "code",
   "execution_count": 53,
   "metadata": {
    "execution": {
     "iopub.execute_input": "2022-01-19T05:43:17.624603Z",
     "iopub.status.busy": "2022-01-19T05:43:17.623879Z",
     "iopub.status.idle": "2022-01-19T05:43:17.632695Z",
     "shell.execute_reply": "2022-01-19T05:43:17.633186Z"
    },
    "papermill": {
     "duration": 0.061397,
     "end_time": "2022-01-19T05:43:17.633348",
     "exception": false,
     "start_time": "2022-01-19T05:43:17.571951",
     "status": "completed"
    },
    "tags": []
   },
   "outputs": [
    {
     "name": "stdout",
     "output_type": "stream",
     "text": [
      "['coffee']\n"
     ]
    }
   ],
   "source": [
    "data = np.array([[104,18, 30, 23.603016, 60.3, 6.7, 140.91]])\n",
    "prediction = dt.predict(data)\n",
    "print(prediction)"
   ]
  },
  {
   "cell_type": "code",
   "execution_count": 54,
   "metadata": {
    "execution": {
     "iopub.execute_input": "2022-01-19T05:43:17.736854Z",
     "iopub.status.busy": "2022-01-19T05:43:17.736095Z",
     "iopub.status.idle": "2022-01-19T05:43:17.746276Z",
     "shell.execute_reply": "2022-01-19T05:43:17.746821Z"
    },
    "papermill": {
     "duration": 0.064038,
     "end_time": "2022-01-19T05:43:17.746979",
     "exception": false,
     "start_time": "2022-01-19T05:43:17.682941",
     "status": "completed"
    },
    "tags": []
   },
   "outputs": [
    {
     "name": "stdout",
     "output_type": "stream",
     "text": [
      "['papaya']\n"
     ]
    }
   ],
   "source": [
    "data = np.array([[20, 59, 60, 28, 70.3, 7.0, 150.9]])\n",
    "prediction = dt.predict(data)\n",
    "print(prediction)"
   ]
  },
  {
   "cell_type": "code",
   "execution_count": null,
   "metadata": {},
   "outputs": [],
   "source": [
    "#ClassifierCV\n",
    "#RegessionCV"
   ]
  }
 ],
 "metadata": {
  "kernelspec": {
   "display_name": "Python 3 (ipykernel)",
   "language": "python",
   "name": "python3"
  },
  "language_info": {
   "codemirror_mode": {
    "name": "ipython",
    "version": 3
   },
   "file_extension": ".py",
   "mimetype": "text/x-python",
   "name": "python",
   "nbconvert_exporter": "python",
   "pygments_lexer": "ipython3",
   "version": "3.9.6"
  },
  "papermill": {
   "duration": 21.35152,
   "end_time": "2022-01-19T05:43:18.107695",
   "environment_variables": {},
   "exception": null,
   "input_path": "__notebook__.ipynb",
   "output_path": "__notebook__.ipynb",
   "parameters": {},
   "start_time": "2022-01-19T05:42:56.756175",
   "version": "2.1.0"
  }
 },
 "nbformat": 4,
 "nbformat_minor": 4
}
